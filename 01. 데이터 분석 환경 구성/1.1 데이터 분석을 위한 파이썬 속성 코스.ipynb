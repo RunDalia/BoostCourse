{
 "cells": [
  {
   "cell_type": "markdown",
   "id": "56008419",
   "metadata": {},
   "source": [
    "# Zen of Pyhton \n",
    "- 파이썬의 철학이 담겨있는 Zen of Pyhton을 출력해보자\n",
    "- import 를 통해 파이썬의 라이브러리나 패키지 가져올 수 있음"
   ]
  },
  {
   "cell_type": "code",
   "execution_count": 1,
   "id": "34f68d28",
   "metadata": {
    "scrolled": false
   },
   "outputs": [
    {
     "name": "stdout",
     "output_type": "stream",
     "text": [
      "The Zen of Python, by Tim Peters\n",
      "\n",
      "Beautiful is better than ugly.\n",
      "Explicit is better than implicit.\n",
      "Simple is better than complex.\n",
      "Complex is better than complicated.\n",
      "Flat is better than nested.\n",
      "Sparse is better than dense.\n",
      "Readability counts.\n",
      "Special cases aren't special enough to break the rules.\n",
      "Although practicality beats purity.\n",
      "Errors should never pass silently.\n",
      "Unless explicitly silenced.\n",
      "In the face of ambiguity, refuse the temptation to guess.\n",
      "There should be one-- and preferably only one --obvious way to do it.\n",
      "Although that way may not be obvious at first unless you're Dutch.\n",
      "Now is better than never.\n",
      "Although never is often better than *right* now.\n",
      "If the implementation is hard to explain, it's a bad idea.\n",
      "If the implementation is easy to explain, it may be a good idea.\n",
      "Namespaces are one honking great idea -- let's do more of those!\n"
     ]
    }
   ],
   "source": [
    "# PEP 20 \n",
    "import this"
   ]
  },
  {
   "cell_type": "markdown",
   "id": "73d7d7d3",
   "metadata": {},
   "source": [
    "# Boolean\n",
    "- 파이썬에서는 명시적인 암시적인 것보다 낫다.\n",
    "- True나 False는 0과 1로도 명시 가능"
   ]
  },
  {
   "cell_type": "code",
   "execution_count": 2,
   "id": "fcdfda8e",
   "metadata": {},
   "outputs": [
    {
     "data": {
      "text/plain": [
       "True"
      ]
     },
     "execution_count": 2,
     "metadata": {},
     "output_type": "execute_result"
    }
   ],
   "source": [
    "True == 1"
   ]
  },
  {
   "cell_type": "code",
   "execution_count": 3,
   "id": "2a2ebe65",
   "metadata": {},
   "outputs": [
    {
     "data": {
      "text/plain": [
       "True"
      ]
     },
     "execution_count": 3,
     "metadata": {},
     "output_type": "execute_result"
    }
   ],
   "source": [
    "False == 0"
   ]
  },
  {
   "cell_type": "code",
   "execution_count": 4,
   "id": "7894f687",
   "metadata": {},
   "outputs": [
    {
     "data": {
      "text/plain": [
       "False"
      ]
     },
     "execution_count": 4,
     "metadata": {},
     "output_type": "execute_result"
    }
   ],
   "source": [
    "# 하지만 True는 문자 1과는 다름\n",
    "True == \"1\""
   ]
  },
  {
   "cell_type": "code",
   "execution_count": 5,
   "id": "f57e59b9",
   "metadata": {},
   "outputs": [
    {
     "data": {
      "text/plain": [
       "True"
      ]
     },
     "execution_count": 5,
     "metadata": {},
     "output_type": "execute_result"
    }
   ],
   "source": [
    "# 다르다는 !=\n",
    "True != \"1\""
   ]
  },
  {
   "cell_type": "code",
   "execution_count": 6,
   "id": "c66ae67a",
   "metadata": {},
   "outputs": [
    {
     "data": {
      "text/plain": [
       "True"
      ]
     },
     "execution_count": 6,
     "metadata": {},
     "output_type": "execute_result"
    }
   ],
   "source": [
    "# and 연산으로 True 값끼리 비교 가능\n",
    "# and는 모든 값이 True일 때만 True\n",
    "True and True"
   ]
  },
  {
   "cell_type": "code",
   "execution_count": 7,
   "id": "85043df5",
   "metadata": {},
   "outputs": [
    {
     "data": {
      "text/plain": [
       "False"
      ]
     },
     "execution_count": 7,
     "metadata": {},
     "output_type": "execute_result"
    }
   ],
   "source": [
    "True and False"
   ]
  },
  {
   "cell_type": "code",
   "execution_count": 8,
   "id": "232e2aa6",
   "metadata": {},
   "outputs": [
    {
     "data": {
      "text/plain": [
       "True"
      ]
     },
     "execution_count": 8,
     "metadata": {},
     "output_type": "execute_result"
    }
   ],
   "source": [
    "# or는 하나만 True여도 Ture\n",
    "True or False"
   ]
  },
  {
   "cell_type": "markdown",
   "id": "7af456e6",
   "metadata": {},
   "source": [
    "# Number String\n",
    "- 숫자 1과 문자 \"1\"은 다름\n",
    "- type() 명령어를 통해 데이터 타입 확인 가능"
   ]
  },
  {
   "cell_type": "code",
   "execution_count": 9,
   "id": "77b55537",
   "metadata": {},
   "outputs": [
    {
     "data": {
      "text/plain": [
       "int"
      ]
     },
     "execution_count": 9,
     "metadata": {},
     "output_type": "execute_result"
    }
   ],
   "source": [
    "type(1)"
   ]
  },
  {
   "cell_type": "code",
   "execution_count": 10,
   "id": "6601d58b",
   "metadata": {},
   "outputs": [
    {
     "data": {
      "text/plain": [
       "str"
      ]
     },
     "execution_count": 10,
     "metadata": {},
     "output_type": "execute_result"
    }
   ],
   "source": [
    "type(\"1\")"
   ]
  },
  {
   "cell_type": "markdown",
   "id": "b4b4dc96",
   "metadata": {},
   "source": [
    "# Strings and Lists"
   ]
  },
  {
   "cell_type": "code",
   "execution_count": 12,
   "id": "9be53e9f",
   "metadata": {},
   "outputs": [
    {
     "data": {
      "text/plain": [
       "'Hello World'"
      ]
     },
     "execution_count": 12,
     "metadata": {},
     "output_type": "execute_result"
    }
   ],
   "source": [
    "'Hello World'"
   ]
  },
  {
   "cell_type": "code",
   "execution_count": 13,
   "id": "c1fd654b",
   "metadata": {},
   "outputs": [
    {
     "data": {
      "text/plain": [
       "'경기도 성남시 분당구'"
      ]
     },
     "execution_count": 13,
     "metadata": {},
     "output_type": "execute_result"
    }
   ],
   "source": [
    "'경기도 성남시 분당구'"
   ]
  },
  {
   "cell_type": "markdown",
   "id": "ee004e38",
   "metadata": {},
   "source": [
    "## strings"
   ]
  },
  {
   "cell_type": "code",
   "execution_count": 14,
   "id": "c6ea9f76",
   "metadata": {},
   "outputs": [
    {
     "data": {
      "text/plain": [
       "'Today I learned'"
      ]
     },
     "execution_count": 14,
     "metadata": {},
     "output_type": "execute_result"
    }
   ],
   "source": [
    "# til이라는 변수에 문자열을 담아보자\n",
    "til =\"Today I learned\"\n",
    "til"
   ]
  },
  {
   "cell_type": "code",
   "execution_count": 17,
   "id": "c277bb5f",
   "metadata": {},
   "outputs": [
    {
     "data": {
      "text/plain": [
       "'today i learned'"
      ]
     },
     "execution_count": 17,
     "metadata": {},
     "output_type": "execute_result"
    }
   ],
   "source": [
    "# 모두 소문자로 바꿔보세요\n",
    "til.lower()"
   ]
  },
  {
   "cell_type": "code",
   "execution_count": 18,
   "id": "3dc66070",
   "metadata": {},
   "outputs": [
    {
     "data": {
      "text/plain": [
       "'TODAY I LEARNED'"
      ]
     },
     "execution_count": 18,
     "metadata": {},
     "output_type": "execute_result"
    }
   ],
   "source": [
    "# 모두 대문자로 바꿔보세요 \n",
    "til.upper()"
   ]
  },
  {
   "cell_type": "markdown",
   "id": "70cf6e80",
   "metadata": {},
   "source": [
    "## lists"
   ]
  },
  {
   "cell_type": "code",
   "execution_count": 19,
   "id": "db6a03f1",
   "metadata": {},
   "outputs": [],
   "source": [
    "# 빈 리스트 만들기\n",
    "lang = []"
   ]
  },
  {
   "cell_type": "code",
   "execution_count": 20,
   "id": "74e869cd",
   "metadata": {},
   "outputs": [
    {
     "data": {
      "text/plain": [
       "['python', 'java', 'c']"
      ]
     },
     "execution_count": 20,
     "metadata": {},
     "output_type": "execute_result"
    }
   ],
   "source": [
    "# append로 원소 추가\n",
    "lang.append(\"python\")\n",
    "lang.append(\"java\")\n",
    "lang.append(\"c\")\n",
    "lang"
   ]
  },
  {
   "cell_type": "code",
   "execution_count": 21,
   "id": "0ba96cb7",
   "metadata": {},
   "outputs": [
    {
     "data": {
      "text/plain": [
       "'java'"
      ]
     },
     "execution_count": 21,
     "metadata": {},
     "output_type": "execute_result"
    }
   ],
   "source": [
    "# list index\n",
    "lang[1]"
   ]
  },
  {
   "cell_type": "code",
   "execution_count": 22,
   "id": "3d4b5f45",
   "metadata": {},
   "outputs": [
    {
     "data": {
      "text/plain": [
       "'python'"
      ]
     },
     "execution_count": 22,
     "metadata": {},
     "output_type": "execute_result"
    }
   ],
   "source": [
    "# python list는 0이 첫 번째\n",
    "lang[0]"
   ]
  },
  {
   "cell_type": "code",
   "execution_count": 23,
   "id": "89f22efc",
   "metadata": {},
   "outputs": [
    {
     "data": {
      "text/plain": [
       "'c'"
      ]
     },
     "execution_count": 23,
     "metadata": {},
     "output_type": "execute_result"
    }
   ],
   "source": [
    "# 마지막 원소의 인덱스는 -1\n",
    "lang[-1]"
   ]
  },
  {
   "cell_type": "markdown",
   "id": "0937518f",
   "metadata": {},
   "source": [
    "# Control Flow\n",
    "- 제어문, 조건문, 반복문"
   ]
  },
  {
   "cell_type": "code",
   "execution_count": 24,
   "id": "cbc675b9",
   "metadata": {},
   "outputs": [
    {
     "name": "stdout",
     "output_type": "stream",
     "text": [
      "python\n",
      "java\n",
      "c\n"
     ]
    }
   ],
   "source": [
    "# 반복문으로 모든 원소 가져오기\n",
    "for i in lang:\n",
    "    print(i)"
   ]
  },
  {
   "cell_type": "code",
   "execution_count": 25,
   "id": "2d1fcd6e",
   "metadata": {},
   "outputs": [
    {
     "name": "stdout",
     "output_type": "stream",
     "text": [
      "python\n",
      "기타\n",
      "기타\n"
     ]
    }
   ],
   "source": [
    "# python 만 출력하고 나머지는 기타로 출력\n",
    "for i in lang:\n",
    "    if i == \"python\":\n",
    "        print(i)\n",
    "    else :\n",
    "        print(\"기타\")"
   ]
  },
  {
   "cell_type": "code",
   "execution_count": 28,
   "id": "fd3aefe4",
   "metadata": {},
   "outputs": [
    {
     "name": "stdout",
     "output_type": "stream",
     "text": [
      "python\n",
      "java\n",
      "c\n"
     ]
    }
   ],
   "source": [
    "# 특정 횟수만큼 반복문 실행\n",
    "count = len(lang)\n",
    "for i in range(count):\n",
    "    print(lang[i])"
   ]
  },
  {
   "cell_type": "code",
   "execution_count": 29,
   "id": "82638094",
   "metadata": {},
   "outputs": [
    {
     "name": "stdout",
     "output_type": "stream",
     "text": [
      "java\n",
      "python\n",
      "java\n",
      "python\n",
      "java\n",
      "python\n",
      "java\n",
      "python\n",
      "java\n"
     ]
    }
   ],
   "source": [
    "# for문과 if문 같이 사용\n",
    "# 짝수일 때 Python, 홀수일 때 java\n",
    "\n",
    "for i in range(1,10):\n",
    "    if i%2 == 0:\n",
    "        print(\"python\")\n",
    "    else:\n",
    "        print(\"java\")\n"
   ]
  },
  {
   "cell_type": "code",
   "execution_count": 30,
   "id": "bebf96ad",
   "metadata": {},
   "outputs": [
    {
     "name": "stdout",
     "output_type": "stream",
     "text": [
      "0 python\n",
      "1 java\n",
      "2 c\n"
     ]
    }
   ],
   "source": [
    "# enumerate\n",
    "for i, val in enumerate(lang):\n",
    "    print(i, val)"
   ]
  },
  {
   "cell_type": "markdown",
   "id": "49a5dc42",
   "metadata": {},
   "source": [
    "## 문자열"
   ]
  },
  {
   "cell_type": "code",
   "execution_count": 36,
   "id": "98d61ec2",
   "metadata": {},
   "outputs": [],
   "source": [
    "address = \" 경기도 성남시 분당구 불정로 6 NAVER 그린팩토리 16층 \""
   ]
  },
  {
   "cell_type": "code",
   "execution_count": 37,
   "id": "ed1bbe8d",
   "metadata": {},
   "outputs": [
    {
     "data": {
      "text/plain": [
       "'경기도 성남시 분당구 불정로 6 NAVER 그린팩토리 16층'"
      ]
     },
     "execution_count": 37,
     "metadata": {},
     "output_type": "execute_result"
    }
   ],
   "source": [
    "# 앞뒤 공백 제거\n",
    "address = address.strip()\n",
    "address"
   ]
  },
  {
   "cell_type": "code",
   "execution_count": 38,
   "id": "47b1a19e",
   "metadata": {},
   "outputs": [
    {
     "data": {
      "text/plain": [
       "33"
      ]
     },
     "execution_count": 38,
     "metadata": {},
     "output_type": "execute_result"
    }
   ],
   "source": [
    "# 문자열의 길이\n",
    "len(address)"
   ]
  },
  {
   "cell_type": "code",
   "execution_count": 40,
   "id": "bf47fe30",
   "metadata": {},
   "outputs": [
    {
     "data": {
      "text/plain": [
       "['경기도', '성남시', '분당구', '불정로', '6', 'NAVER', '그린팩토리', '16층']"
      ]
     },
     "execution_count": 40,
     "metadata": {},
     "output_type": "execute_result"
    }
   ],
   "source": [
    "# 문자열 공백으로 분리\n",
    "address_list = address.split()\n",
    "address_list"
   ]
  },
  {
   "cell_type": "code",
   "execution_count": 41,
   "id": "f6eae4a9",
   "metadata": {},
   "outputs": [
    {
     "data": {
      "text/plain": [
       "8"
      ]
     },
     "execution_count": 41,
     "metadata": {},
     "output_type": "execute_result"
    }
   ],
   "source": [
    "# 리스트의 길이\n",
    "len(address_list)"
   ]
  },
  {
   "cell_type": "code",
   "execution_count": 43,
   "id": "f581e878",
   "metadata": {},
   "outputs": [
    {
     "data": {
      "text/plain": [
       "'경기'"
      ]
     },
     "execution_count": 43,
     "metadata": {},
     "output_type": "execute_result"
    }
   ],
   "source": [
    "# 슬라이싱으로 문자 가져오기\n",
    "address[:2]"
   ]
  },
  {
   "cell_type": "code",
   "execution_count": 44,
   "id": "2563468a",
   "metadata": {},
   "outputs": [
    {
     "data": {
      "text/plain": [
       "True"
      ]
     },
     "execution_count": 44,
     "metadata": {},
     "output_type": "execute_result"
    }
   ],
   "source": [
    "# startwith를 사용하면 특정 문자로 시작하는지 알 수 있음\n",
    "address.startswith(\"경기\")"
   ]
  },
  {
   "cell_type": "code",
   "execution_count": 45,
   "id": "fde55189",
   "metadata": {},
   "outputs": [
    {
     "data": {
      "text/plain": [
       "True"
      ]
     },
     "execution_count": 45,
     "metadata": {},
     "output_type": "execute_result"
    }
   ],
   "source": [
    "# in을 사용하면 특정 문자 포함 여부 확인 가능 \n",
    "\"경기\" in address "
   ]
  },
  {
   "cell_type": "markdown",
   "id": "a651d1f0",
   "metadata": {},
   "source": [
    "## 리스트\n",
    "- 문자열에서 쓰는 방법과 비슷하게 메소드 사용 가능"
   ]
  },
  {
   "cell_type": "code",
   "execution_count": 46,
   "id": "8b4413ac",
   "metadata": {},
   "outputs": [
    {
     "data": {
      "text/plain": [
       "['경기도', '성남시', '분당구', '불정로', '6', 'NAVER', '그린팩토리', '16층']"
      ]
     },
     "execution_count": 46,
     "metadata": {},
     "output_type": "execute_result"
    }
   ],
   "source": [
    "# 인덱싱으로 원소 가져오기 \n",
    "address_list"
   ]
  },
  {
   "cell_type": "code",
   "execution_count": 52,
   "id": "700c54e8",
   "metadata": {},
   "outputs": [
    {
     "data": {
      "text/plain": [
       "'분당구'"
      ]
     },
     "execution_count": 52,
     "metadata": {},
     "output_type": "execute_result"
    }
   ],
   "source": [
    "# 주소에서 구를 가져와 gu라는 변수에 담기\n",
    "gu = address_list[2]\n",
    "gu"
   ]
  },
  {
   "cell_type": "code",
   "execution_count": 53,
   "id": "8f2d4047",
   "metadata": {},
   "outputs": [
    {
     "data": {
      "text/plain": [
       "'불정로'"
      ]
     },
     "execution_count": 53,
     "metadata": {},
     "output_type": "execute_result"
    }
   ],
   "source": [
    "# 주소의 도로명 street이라는 변수에 담기\n",
    "street = address_list[3]\n",
    "street"
   ]
  },
  {
   "cell_type": "code",
   "execution_count": 49,
   "id": "dbe60744",
   "metadata": {},
   "outputs": [
    {
     "data": {
      "text/plain": [
       "'16층'"
      ]
     },
     "execution_count": 49,
     "metadata": {},
     "output_type": "execute_result"
    }
   ],
   "source": [
    "# 리스트의 마지막 가져오기\n",
    "address_list[-1]"
   ]
  },
  {
   "cell_type": "code",
   "execution_count": 55,
   "id": "a5706ef9",
   "metadata": {},
   "outputs": [
    {
     "data": {
      "text/plain": [
       "'경기도_성남시_분당구_불정로_6_NAVER_그린팩토리_16층'"
      ]
     },
     "execution_count": 55,
     "metadata": {},
     "output_type": "execute_result"
    }
   ],
   "source": [
    "#\"\".join(리스트) 사용 시 리스트 공백 문자열 연결 가능 \n",
    "# 리스트로 분리된 문자열 다시 연결\n",
    "\"_\".join(address_list)"
   ]
  },
  {
   "cell_type": "code",
   "execution_count": 56,
   "id": "e17d82b6",
   "metadata": {},
   "outputs": [
    {
     "data": {
      "text/plain": [
       "False"
      ]
     },
     "execution_count": 56,
     "metadata": {},
     "output_type": "execute_result"
    }
   ],
   "source": [
    "# in 사용 시 해당 데이터 유무 확인 가능\n",
    "\"경기\" in address_list"
   ]
  },
  {
   "cell_type": "code",
   "execution_count": 57,
   "id": "96d2851d",
   "metadata": {},
   "outputs": [
    {
     "data": {
      "text/plain": [
       "True"
      ]
     },
     "execution_count": 57,
     "metadata": {},
     "output_type": "execute_result"
    }
   ],
   "source": [
    "# 텍스트가 전부 일치해야 True 반환\n",
    "\"경기도\" in address_list"
   ]
  },
  {
   "cell_type": "code",
   "execution_count": 58,
   "id": "be8ce3bf",
   "metadata": {},
   "outputs": [
    {
     "data": {
      "text/plain": [
       "True"
      ]
     },
     "execution_count": 58,
     "metadata": {},
     "output_type": "execute_result"
    }
   ],
   "source": [
    "\"분당구\" in address_list"
   ]
  }
 ],
 "metadata": {
  "kernelspec": {
   "display_name": "Python 3 (ipykernel)",
   "language": "python",
   "name": "python3"
  },
  "language_info": {
   "codemirror_mode": {
    "name": "ipython",
    "version": 3
   },
   "file_extension": ".py",
   "mimetype": "text/x-python",
   "name": "python",
   "nbconvert_exporter": "python",
   "pygments_lexer": "ipython3",
   "version": "3.9.18"
  },
  "toc": {
   "base_numbering": 1,
   "nav_menu": {},
   "number_sections": true,
   "sideBar": true,
   "skip_h1_title": false,
   "title_cell": "Table of Contents",
   "title_sidebar": "Contents",
   "toc_cell": false,
   "toc_position": {
    "height": "calc(100% - 180px)",
    "left": "10px",
    "top": "150px",
    "width": "253.188px"
   },
   "toc_section_display": true,
   "toc_window_display": true
  },
  "varInspector": {
   "cols": {
    "lenName": 16,
    "lenType": 16,
    "lenVar": 40
   },
   "kernels_config": {
    "python": {
     "delete_cmd_postfix": "",
     "delete_cmd_prefix": "del ",
     "library": "var_list.py",
     "varRefreshCmd": "print(var_dic_list())"
    },
    "r": {
     "delete_cmd_postfix": ") ",
     "delete_cmd_prefix": "rm(",
     "library": "var_list.r",
     "varRefreshCmd": "cat(var_dic_list()) "
    }
   },
   "types_to_exclude": [
    "module",
    "function",
    "builtin_function_or_method",
    "instance",
    "_Feature"
   ],
   "window_display": false
  }
 },
 "nbformat": 4,
 "nbformat_minor": 5
}
